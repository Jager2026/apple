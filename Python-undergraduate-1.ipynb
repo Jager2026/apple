{
  "nbformat": 4,
  "nbformat_minor": 0,
  "metadata": {
    "colab": {
      "provenance": [],
      "authorship_tag": "ABX9TyOZm7Y1gp4RcR3aFoEP+BjC",
      "include_colab_link": true
    },
    "kernelspec": {
      "name": "python3",
      "display_name": "Python 3"
    },
    "language_info": {
      "name": "python"
    }
  },
  "cells": [
    {
      "cell_type": "markdown",
      "metadata": {
        "id": "view-in-github",
        "colab_type": "text"
      },
      "source": [
        "<a href=\"https://colab.research.google.com/github/remjw/apple/blob/main/Python-undergraduate-1.ipynb\" target=\"_parent\"><img src=\"https://colab.research.google.com/assets/colab-badge.svg\" alt=\"Open In Colab\"/></a>"
      ]
    },
    {
      "cell_type": "markdown",
      "source": [
        "# Coding Question\n",
        "\n",
        "Submit both scrpit and recording. \n",
        "\n",
        "A file named `numbers.txt` contains **an unknown number of lines**, each consisting of a single integer. Write a program that creates the following three files:\n",
        "\n",
        "- `positive.txt`\n",
        "- `negative.txt`\n",
        "- `zeros.txt`\n",
        "\n",
        "The program should read each line of `numbers.txt` and perform the following:\n",
        "\n",
        "- If the line contains a positive number, that number should be written to `positive.txt`. Keep the count and total of positive numbers.\n",
        "- If the line contains a negative number, that number should be written to `negative.txt`. Keep the count and total of negative numbers.\n",
        "- If the line contains the value 0, do not write the value to a file. Instead, keep the count of zeros which has been read from `numbers.txt`.\n",
        "\n",
        "After all the lines have been read from `numbers.txt` file, the program should \n",
        "- write the count of zeros to `zeros.txt`.\n",
        "- write the count and average of positive numbers to `positive.txt`. Round to three decimal places.\n",
        "- write the count and average of negative numbers to `negative.txt`. Round to three decimal places.\n",
        "\n",
        "\n",
        "**For the grading purpose, you must follow a given script in the last cell of this notebook, and fill in all the three-dot placeholders. Do not change any existing names. You can add new variables if needed. Test run the completed script. Record the test run and open each output file to show the file content**\n",
        "\n",
        "\n",
        "\n",
        "# Data\n",
        "\n",
        "## Get `numbers.txt` in Non-Colab Environment\n",
        "\n",
        "Download numbers.txt from the Canvas Exam question. \n",
        "\n",
        "***Replit:*** Upload numbers.txt to your Repl.\n",
        "\n",
        "## Get `numbers.txt` in Colab: \n",
        "\n",
        "- Run the following command in a cell to get steps.txt to Files (left column bar of your notebook). Then open it by it name in any subsequent cell.\n",
        "\n",
        "```\n",
        "!wget https://raw.githubusercontent.com/remjw/data/master/py_programming_data/numbers.txt\n",
        "```"
      ],
      "metadata": {
        "id": "L70b00TCvW1f"
      }
    },
    {
      "cell_type": "code",
      "execution_count": null,
      "metadata": {
        "id": "hOdqx8c9rAV4"
      },
      "outputs": [],
      "source": [
        "# Colab-only: \n",
        "# Run the following command in a cell to get numbers.txt to Files (left column bar of your notebook)\n",
        "# Then open it by its name in any subsequent cell.\n",
        "!wget https://raw.githubusercontent.com/remjw/data/master/py_programming_data/numbers.txt"
      ]
    },
    {
      "cell_type": "markdown",
      "source": [
        "## Complete the Code"
      ],
      "metadata": {
        "id": "XI72Mq-7z9wa"
      }
    },
    {
      "cell_type": "code",
      "source": [
        "# fill in all the three-dot placeholders\n",
        "def process_numbers(data, out1, out2, out3):\n",
        "  # data,out1,out2,out3: four strings as filenames\n",
        "  # read numbers from data\n",
        "  # out1, out2, out3 for negative, positive and zeros respectively\n",
        "  \n",
        "  try:\n",
        "    # open all files\n",
        "    with open(data, 'r') as input, open(out1, ...) as f1, open(out2, ...) as f2, open(out3, ...) as f3:\n",
        "      # initialize counts and running totals\n",
        "      ...\n",
        "      # loop through each line until last line\n",
        "      # Must use Walrus operator\n",
        "      while ... :\n",
        "        ...\n",
        "        if ...:\n",
        "          ...\n",
        "        elif ...:\n",
        "          ...\n",
        "        else:\n",
        "          ...\n",
        "      # write positive count, average to file\n",
        "      ...\n",
        "      # write negative count, average to file\n",
        "      ...\n",
        "      # write zero count to file    \n",
        "      ...\n",
        "  except ... as e: # handle file not found error\n",
        "    print(e)\n",
        "  except ... as e: # handle divided by zero error\n",
        "    print(e)\n",
        "  except ... as e: # handle all other possible exceptions\n",
        "    print(e)\n",
        "  else:\n",
        "    print('''Everything has run smoothly.\n",
        "    The results can be found in the following three text files: \n",
        "    - positive.txt\n",
        "    - negative.txt\n",
        "    - zeros.txt\n",
        "    ''')\n",
        "  finally:\n",
        "    print(\"Bye\")\n",
        "  return\n",
        "\n",
        "def main():\n",
        "  data, out1, out2, out3 = 'numbers.txt', 'positive.txt', 'negative.txt', 'zeros.txt'\n",
        "  process_numbers(data, out1, out2, out3)\n",
        "\n",
        "# test main\n",
        "main()  \n"
      ],
      "metadata": {
        "id": "CjBUmILRzhnt"
      },
      "execution_count": null,
      "outputs": []
    }
  ]
}