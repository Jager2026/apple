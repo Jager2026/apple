{
  "nbformat": 4,
  "nbformat_minor": 0,
  "metadata": {
    "colab": {
      "provenance": [],
      "authorship_tag": "ABX9TyPEPz/PqjTHafrBBbD3N7Lm",
      "include_colab_link": true
    },
    "kernelspec": {
      "name": "python3",
      "display_name": "Python 3"
    },
    "language_info": {
      "name": "python"
    }
  },
  "cells": [
    {
      "cell_type": "markdown",
      "metadata": {
        "id": "view-in-github",
        "colab_type": "text"
      },
      "source": [
        "<a href=\"https://colab.research.google.com/github/remjw/apple/blob/main/Python-undergraduate-1.ipynb\" target=\"_parent\"><img src=\"https://colab.research.google.com/assets/colab-badge.svg\" alt=\"Open In Colab\"/></a>"
      ]
    },
    {
      "cell_type": "markdown",
      "source": [
        "# Coding Question\n",
        "\n",
        "A file named `numbers.txt` contains **an unknown number of lines**, each consisting of a single integer. Write a program that creates the following three files:\n",
        "\n",
        "- `positive.txt`\n",
        "- `negative.txt`\n",
        "- `zeros.txt`\n",
        "\n",
        "The program should read each line of `numbers.txt` and perform the following:\n",
        "\n",
        "- If the line contains a positive number, that number should be written to `positive.txt`. Keep the count and total of positive numbers.\n",
        "- If the line contains a negative number, that number should be written to `negative.txt`. Keep the count and total of negative numbers.\n",
        "- If the line contains the value 0, do not write the value to a file. Instead, keep the count of zeros which has been read from `numbers.txt`.\n",
        "\n",
        "After all the lines have been read from `numbers.txt` file, the program should \n",
        "- write the count of zeros to `zeros.txt`.\n",
        "- write the count and average of positive numbers to `positive.txt`. Round to three decimal places.\n",
        "- write the count and average of negative numbers to `negative.txt`. Round to three decimal places.\n",
        "\n",
        "\n",
        "\n",
        "**For the grading purpose, you must follow a given script in the last cell of this notebook, and fill in all the three-dot placeholders. Test run the completed script. Record the test run and open each output file to show the file content**\n",
        "\n",
        "Submit both script and recording. \n",
        "\n",
        "# Data\n",
        "\n",
        "## Get `numbers.txt` in Non-Colab Environment\n",
        "\n",
        "Download numbers.txt from the Canvas Exam question. \n",
        "\n",
        "***Replit:*** Upload numbers.txt to your Repl.\n",
        "\n",
        "## Get `numbers.txt` in Colab: \n",
        "\n",
        "- Run the following command in a cell to get steps.txt to Files (left column bar of your notebook). Then open it by it name in any subsequent cell.\n",
        "\n",
        "```\n",
        "!wget https://raw.githubusercontent.com/remjw/data/master/py_programming_data/numbers.txt\n",
        "```"
      ],
      "metadata": {
        "id": "L70b00TCvW1f"
      }
    },
    {
      "cell_type": "code",
      "execution_count": null,
      "metadata": {
        "id": "hOdqx8c9rAV4"
      },
      "outputs": [],
      "source": [
        "# Colab-only: \n",
        "# Run the following command in a cell to get numbers.txt to Files (left column bar of your notebook)\n",
        "# Then open it by its name in any subsequent cell.\n",
        "!wget https://raw.githubusercontent.com/remjw/data/master/py_programming_data/numbers.txt"
      ]
    },
    {
      "cell_type": "markdown",
      "source": [
        "## Complete the "
      ],
      "metadata": {
        "id": "XI72Mq-7z9wa"
      }
    },
    {
      "cell_type": "code",
      "source": [
        "# \n",
        "\n",
        "def process_numbers(data, out1, out2, out3):\n",
        "  try:\n",
        "    # process numbers\n",
        "    with open(data, 'r') as input, open(out1, 'w') as f1, open(out2, 'w') as f2, open(out3, 'w') as f3:\n",
        "      zeros, plus, minus = 0, 0, 0\n",
        "      plus_sum, minus_sum = 0, 0\n",
        "      while (number := input.readline()) != '':\n",
        "        number = int(number)\n",
        "        if number == 0:\n",
        "          zeros += 1\n",
        "        elif number > 0:\n",
        "          plus += 1\n",
        "          plus_sum += number\n",
        "          f1.write(f'{number}\\n')\n",
        "        else:\n",
        "          minus += 1\n",
        "          minus_sum += number\n",
        "          f2.write(f'{number}\\n')\n",
        "      \n",
        "      # write positive count, average to file\n",
        "      f1.write(f'{plus} in total. The average is {plus_sum/plus:.3f}')\n",
        "      # write negative count, average to file\n",
        "      f2.write(f'{minus} in total. The average is {minus_sum/plus:.3f}')\n",
        "      # write zeros to out3    \n",
        "      f3.write(f'{zeros} in total.')\n",
        "  except IOError as e:\n",
        "    print(e)\n",
        "  except ZeroDivisionError as e:\n",
        "    print(e)\n",
        "  except Exception as e:\n",
        "    print(e)\n",
        "  else:\n",
        "    print('''Everything has run smoothly.\n",
        "    The results can be found in the following three text files: \n",
        "    - positive.txt\n",
        "    - negative.txt\n",
        "    - zeros.txt\n",
        "    ''')\n",
        "  finally:\n",
        "    print(\"Bye\")\n",
        "  return\n",
        "\n",
        "def main():\n",
        "  data, out1, out2, out3 = 'numbers.txt', 'positive.txt', 'negative.txt', 'zeros.txt'\n",
        "  process_numbers(data, out1, out2, out3)\n",
        "\n",
        "# test main\n",
        "main()  \n"
      ],
      "metadata": {
        "id": "CjBUmILRzhnt",
        "outputId": "840fc253-27c1-4c7d-e6f3-34860a5a1df8",
        "colab": {
          "base_uri": "https://localhost:8080/"
        }
      },
      "execution_count": 8,
      "outputs": [
        {
          "output_type": "stream",
          "name": "stdout",
          "text": [
            "Everything has run smoothly.\n",
            "    The results can be found in the following three text files: \n",
            "    - positive.txt\n",
            "    - negative.txt\n",
            "    - zeros.txt\n",
            "    \n",
            "Bye\n"
          ]
        }
      ]
    },
    {
      "cell_type": "code",
      "source": [
        "with open('numbers.txt', 'r') as f:\n",
        "  numbers = f.read().split()\n",
        "  print(len([ 1 for v in numbers if int(v) == 0 ]))\n",
        "  print(len([ 1 for v in numbers if int(v) > 0 ]))\n",
        "  print(len([ 1 for v in numbers if int(v) < 0 ]))"
      ],
      "metadata": {
        "id": "n95ayHN5JTgh",
        "outputId": "2302c787-8ad9-4858-dcc6-7bea48c4e0b3",
        "colab": {
          "base_uri": "https://localhost:8080/"
        }
      },
      "execution_count": 13,
      "outputs": [
        {
          "output_type": "stream",
          "name": "stdout",
          "text": [
            "21\n",
            "40\n",
            "39\n"
          ]
        }
      ]
    }
  ]
}