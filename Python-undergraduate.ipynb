{
  "nbformat": 4,
  "nbformat_minor": 0,
  "metadata": {
    "colab": {
      "provenance": [],
      "authorship_tag": "ABX9TyONsNzYAMTmCWNSKWTgFehA",
      "include_colab_link": true
    },
    "kernelspec": {
      "name": "python3",
      "display_name": "Python 3"
    },
    "language_info": {
      "name": "python"
    }
  },
  "cells": [
    {
      "cell_type": "markdown",
      "metadata": {
        "id": "view-in-github",
        "colab_type": "text"
      },
      "source": [
        "<a href=\"https://colab.research.google.com/github/remjw/apple/blob/main/Python-undergraduate.ipynb\" target=\"_parent\"><img src=\"https://colab.research.google.com/assets/colab-badge.svg\" alt=\"Open In Colab\"/></a>"
      ]
    },
    {
      "cell_type": "markdown",
      "source": [
        "# Coding 1 (Dict) Submit both script and recording.\n",
        "\n",
        "Given a grade book in a Python Dictionary which maps each student's name to a list of integers as grades on three exams. \n",
        "\n",
        "```\n",
        "grade_book = {\n",
        "     'Susan': [92, 85, 100],\n",
        "     'Eduardo': [83, 95, 79],\n",
        "     'Azizi': [91, 89, 82],\n",
        "     'Pantipa': [97, 91, ]\n",
        "}\n",
        "```\n",
        "Assume each student has at most three grades. If a student has missed an exam, the associated value in the grade list is blank. \n",
        "\n",
        "The average grade of a student is calculated as the sum of three grades divided by 3.\n",
        "\n",
        "Write a snippet which contains:\n",
        "\n",
        "- A function `get_average(grades)` which takes a gradebook dictionary `grades` as formatted above and return a dictionary `student_avg`\n",
        "- A main function to test `get_average` with the given grade_book\n",
        "    - display the average for each student\n",
        "    - and display the class's average as well.\n",
        "use f-string for print each resulting number, rounding to 2 decimal places\n",
        "\n",
        "> A sample output is given below:\n",
        "```\n",
        "Average for Susan is 92.33\n",
        "Average for Eduardo is 85.67\n",
        "Average for Azizi is 87.33\n",
        "Average for Pantipa is 89.67\n",
        "Class's average is: 89.67\n",
        "```"
      ],
      "metadata": {
        "id": "IZzoBPllwXzf"
      }
    },
    {
      "cell_type": "code",
      "source": [
        "def get_average():\n",
        "  student_avg = dict()\n",
        "  ...\n",
        "  return student_avg\n",
        "\n",
        "def main():\n",
        "  grade_book = {\n",
        "      'Susan': [92, 85, 100],\n",
        "      'Eduardo': [83, 95, 79],\n",
        "      'Azizi': [91, 89, 82],\n",
        "      'Pantipa': [97, 91, ]\n",
        "  }  \n",
        "  ...\n",
        "  \n",
        "main()\n"
      ],
      "metadata": {
        "id": "-bUFqNoWIf_9"
      },
      "execution_count": null,
      "outputs": []
    },
    {
      "cell_type": "markdown",
      "source": [
        "# Coding 2 (String Split) Submit both script and recording.\n",
        "\n",
        "Write a function `count_distinct_words` that takes a string as input and returns unique words and their count in a dictionary. More specifically,\n",
        "\n",
        "- take a String `text`, \n",
        "- treat uppercase and lowercase letters the same\n",
        "- remove punctuation from the text (`remove_punctuation` function is given)\n",
        "- call the `split method` on the string `text` and split string into a list of words (tokens)\n",
        "- get the occurrences of each unique word\n",
        "- return the unique words and their count in a dictionary. \n",
        "\n",
        "In the main function, display words and counts, sorted in ascending order of the alphabet.\n",
        "\n",
        "\n",
        "Fill in every three-dot placeholder in the given code.\n"
      ],
      "metadata": {
        "id": "m037hIhbxjNA"
      }
    },
    {
      "cell_type": "code",
      "source": [
        "PUNC = '''\n",
        "!()-[]{};:'\"\\,<>./?@#$%^&*_~\n",
        "'''\n",
        "\n",
        "def remove_punctuation(text):\n",
        "  new = \"\"\n",
        "  for c in text:\n",
        "    if ...:\n",
        "      ...\n",
        "  return new\n",
        "\n",
        "def count_distinct_words(text):\n",
        "  text = remove_punctuation(text)\n",
        "  distinct_word_cnt = ...\n",
        "  for word in ...:\n",
        "    if ...:\n",
        "      ...\n",
        "    else:\n",
        "      ...\n",
        "  return distinct_word_cnt\n",
        "\n",
        "# test fun\n",
        "distinct_word_cnt = count_distinct_words('''\n",
        "The term broadcasting describes how Python NumPy treats arrays with different shapes \n",
        "during arithmetic operations. \n",
        "The term broadcasting describes how Python NumPy treats arrays with different shapes \n",
        "during arithmetic operations. The term broadcasting describes\n",
        "''')  \n",
        "\n",
        "for word in ...:\n",
        "  print(f'{word} : {distinct_word_cnt[word]}')"
      ],
      "metadata": {
        "id": "3XieArBLx6TD"
      },
      "execution_count": null,
      "outputs": []
    },
    {
      "cell_type": "markdown",
      "source": [
        "# Coding 3\n",
        "\n",
        "Assume the **Person** class given in the cell below this text box. Write code to \n",
        "\n",
        "1. Create two instances of Person for the two employees\n",
        "```\n",
        "Mike Olsen, hired on 5/1/2010 rate=20\n",
        "Trader Joe, hired on 4/25/2022 rate=22\n",
        "```\n",
        "2. Store them in a List `ps`\n",
        "3. Display the following report for all the employees in the `ps`\n",
        "\n",
        "```\n",
        "List of Employees\n",
        "\n",
        "  Name: Mike Olsen\n",
        "  Employment Years: 13\n",
        "\n",
        "  Name: Trader Joe\n",
        "  Employment Years: 1\n",
        "\n",
        "```"
      ],
      "metadata": {
        "id": "bVcInrM8yjWW"
      }
    },
    {
      "cell_type": "code",
      "source": [
        "from datetime import date\n",
        "  \n",
        "class Person:\n",
        "  def __init__(self, fname, lname, hire_year, pay_rate):\n",
        "    self.__firstname = fname\n",
        "    self.__lastname = lname\n",
        "    self.__hire_year = hire_year\n",
        "    self.__pay_rate = pay_rate\n",
        "  \n",
        "  def __str__(self): # override\n",
        "    return f'{self.__dict__}'\n",
        "  \n",
        "  def getFirstName(self): # getter\n",
        "    return self.__firstname\n",
        "  def getLastName(self):\n",
        "    return self.__lastname\n",
        "  def setFirstName(self, fname): # setter\n",
        "    self.__firstname = fname\n",
        "  def setLastName(self, lname):\n",
        "    self.__lastname = lname\n",
        "    \n",
        "  def get_hireyear(self): \n",
        "    return self.__hire_year\n",
        "  def set_hireyear(self, year): \n",
        "    self.__hire_year = year\n",
        "    return self.__hire_year\n",
        "\n",
        "  def get_payRate(self):\n",
        "    return self.__pay_rate\n",
        "  def set_payRate(self, rate):\n",
        "    self.__pay_rate = rate\n",
        "    return f'Pay_rate has been updated for {self.__firstname} {self.lastname}.'\n",
        "  \n",
        "  def get_employmentYears(self):\n",
        "    today_date = date.today()\n",
        "    return today_date.year - self.__hire_year"
      ],
      "metadata": {
        "id": "0aiZTHGcyk_5"
      },
      "execution_count": null,
      "outputs": []
    }
  ]
}