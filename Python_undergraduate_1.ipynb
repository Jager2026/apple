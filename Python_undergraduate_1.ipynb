{
  "nbformat": 4,
  "nbformat_minor": 0,
  "metadata": {
    "colab": {
      "provenance": [],
      "authorship_tag": "ABX9TyN0fyQ97tCOPmSZZZ77gmQn",
      "include_colab_link": true
    },
    "kernelspec": {
      "name": "python3",
      "display_name": "Python 3"
    },
    "language_info": {
      "name": "python"
    }
  },
  "cells": [
    {
      "cell_type": "markdown",
      "metadata": {
        "id": "view-in-github",
        "colab_type": "text"
      },
      "source": [
        "<a href=\"https://colab.research.google.com/github/remjw/apple/blob/main/Python_undergraduate_1.ipynb\" target=\"_parent\"><img src=\"https://colab.research.google.com/assets/colab-badge.svg\" alt=\"Open In Colab\"/></a>"
      ]
    },
    {
      "cell_type": "markdown",
      "source": [
        "# Coding Question\n",
        "\n",
        "A file named `numbers.txt` contains **an unknown number of lines**, each consisting of a single integer. Write a program that creates the following three files:\n",
        "\n",
        "- `positive.txt`\n",
        "- `negative.txt`\n",
        "- `zeros.txt`\n",
        "\n",
        "The program should read each line of `numbers.txt` and perform the following:\n",
        "\n",
        "- If the line contains a positive number, that number should be written to `positive.txt`. Keep the count and total of positive numbers.\n",
        "- If the line contains a negative number, that number should be written to `negative.txt`. Keep the count and total of negative numbers.\n",
        "- If the line contains the value 0, do not write the value to a file. Instead, keep the count of zeros which has been read from `numbers.txt`.\n",
        "\n",
        "After all the lines have been read from `numbers.txt` file, the program should \n",
        "- write the count of zeros to `zeros.txt`.\n",
        "- write the count and average of positive numbers to `positive.txt`\n",
        "- write the count and average of negative numbers to `negative.txt`\n",
        "\n",
        "**For the grading purpose, you must follow a given script in the last cell of this notebook, and fill in all the three-dot placeholders. Test run the completed script. Record the test run.**\n",
        "\n",
        "Submit both script and recording. \n",
        "\n",
        "# Data\n",
        "\n",
        "## Get `numbers.txt` in Non-Colab Environment\n",
        "\n",
        "Download numbers.txt from the Canvas Exam question. \n",
        "\n",
        "***Replit:*** Upload numbers.txt to your Repl.\n",
        "\n",
        "## Get `numbers.txt` in Colab: \n",
        "\n",
        "- Run the following command in a cell to get steps.txt to Files (left column bar of your notebook). Then open it by it name in any subsequent cell.\n",
        "\n",
        "```\n",
        "!wget https://raw.githubusercontent.com/remjw/data/master/py_programming_data/numbers.txt\n",
        "```"
      ],
      "metadata": {
        "id": "L70b00TCvW1f"
      }
    },
    {
      "cell_type": "code",
      "execution_count": null,
      "metadata": {
        "id": "hOdqx8c9rAV4"
      },
      "outputs": [],
      "source": [
        "# Colab-only: \n",
        "# Run the following command in a cell to get steps.txt to Files (left column bar of your notebook)\n",
        "# Then open it by it name in any subsequent cell.\n",
        "!wget https://raw.githubusercontent.com/remjw/data/master/py_programming_data/numbers.txt"
      ]
    },
    {
      "cell_type": "markdown",
      "source": [
        "## Complete the "
      ],
      "metadata": {
        "id": "XI72Mq-7z9wa"
      }
    },
    {
      "cell_type": "code",
      "source": [],
      "metadata": {
        "id": "CjBUmILRzhnt"
      },
      "execution_count": null,
      "outputs": []
    }
  ]
}