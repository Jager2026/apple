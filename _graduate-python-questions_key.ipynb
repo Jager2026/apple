{
  "cells": [
    {
      "cell_type": "markdown",
      "metadata": {
        "id": "view-in-github",
        "colab_type": "text"
      },
      "source": [
        "<a href=\"https://colab.research.google.com/github/remjw/apple/blob/main/_graduate-python-questions_key.ipynb\" target=\"_parent\"><img src=\"https://colab.research.google.com/assets/colab-badge.svg\" alt=\"Open In Colab\"/></a>"
      ]
    },
    {
      "cell_type": "code",
      "source": [
        "punc = '''\n",
        "!\"#$%&'()*+,-./:;<=>?@[\\]^_`{|}~\n",
        "'''\n",
        "# import string\n",
        "# string.punctuation"
      ],
      "metadata": {
        "id": "ylbJleTb69r1"
      },
      "execution_count": 1,
      "outputs": []
    },
    {
      "cell_type": "code",
      "execution_count": null,
      "metadata": {
        "id": "39oOJ_WpzXH6"
      },
      "outputs": [],
      "source": [
        "import numpy as np\n",
        "punc = '''\n",
        "!\"#$%&'()*+,-./:;<=>?@[\\]^_`{|}~\n",
        "'''\n",
        "\n",
        "def word_frequency(text):\n",
        "    word_cnt = dict()\n",
        "    text = \"\".join([c for c in text.lower() if c not in punc])\n",
        "    words = text.split()\n",
        "    for word in words:\n",
        "        if word in word_cnt:\n",
        "            word_cnt[word] += 1\n",
        "        else:\n",
        "            word_cnt[word] = 1\n",
        "    return word_cnt\n",
        "\n",
        "def decrypt(text, code={'A': '%', 'a': '9', 'B': '@', 'b': '#'}):\n",
        "    decrypted = \"\"\n",
        "    for ch in text:\n",
        "        for k, v in code.items():\n",
        "            if v == ch:\n",
        "                decrypted += k\n",
        "                break\n",
        "        else:\n",
        "            decrypted += \"-\"\n",
        "    return decrypted\n",
        "\n",
        "def count_nonnegative_numbers(arr):\n",
        "    count = 0\n",
        "    print(arr)\n",
        "    for row in arr:\n",
        "        for num in row:\n",
        "            if num >= 0:\n",
        "                count += 1\n",
        "    return count\n",
        "\n",
        "if __name__ == \"__main__\":\n",
        "    test_string = '''Overall, NumPy arrays are typically more appropriate for\n",
        "    numerical computations and scientific computing, while Python lists are more\n",
        "    flexible and versatile for general-purpose programming.\n",
        "    '''\n",
        "    print(word_frequency(test_string))\n",
        "    \n",
        "    test_text = \"%%#9---@\"\n",
        "    print(decrypt(test_text))\n",
        "\n",
        "    test_array = np.random.randint(-99, 100, size=(10, 10))\n",
        "    print(count_nonnegative_numbers(test_array))"
      ]
    },
    {
      "cell_type": "markdown",
      "source": [
        "## All in one line?"
      ],
      "metadata": {
        "id": "ALjcmBvzDUiJ"
      }
    },
    {
      "cell_type": "code",
      "source": [
        "def word_frequency(text, punc=\"!\\\"#$%&'()*+,-./:;<=>?@[\\\\]^_`{|}~\"):\n",
        "  return { \n",
        "      word : text.lower().count(word) \n",
        "      for word in set( \"\".join([c for c in text.lower() if c not in punc]).split() )\n",
        "      }\n",
        "\n",
        "test_string = '''Overall, NumPy Arrays are NumPy arrays are ...!'''\n",
        "for k, v in word_frequency(test_string).items():\n",
        "  print(f'{k} : {v}')"
      ],
      "metadata": {
        "colab": {
          "base_uri": "https://localhost:8080/"
        },
        "id": "JGGq01Xb2BB9",
        "outputId": "99fa812e-085a-48ab-a03f-128b5a9028e4"
      },
      "execution_count": null,
      "outputs": [
        {
          "output_type": "stream",
          "name": "stdout",
          "text": [
            "arrays : 2\n",
            "are : 2\n",
            "numpy : 2\n",
            "overall : 1\n"
          ]
        }
      ]
    },
    {
      "cell_type": "code",
      "source": [
        "def decrypt(text, code={'A': '%', 'a': '9', 'B': '@', 'b': '#'}):\n",
        "  decode = dict(zip(code.values(), code.keys()))\n",
        "  return \"\".join([decode[c] if c in decode else \"-\" for c in text])\n",
        "\n",
        "print(decrypt(\"%%#9---@\"))"
      ],
      "metadata": {
        "colab": {
          "base_uri": "https://localhost:8080/"
        },
        "id": "6kB3IqQV2BdT",
        "outputId": "8454a9dd-cd81-44d5-a23c-932b98dcaba1"
      },
      "execution_count": null,
      "outputs": [
        {
          "output_type": "stream",
          "name": "stdout",
          "text": [
            "AAba---B\n"
          ]
        }
      ]
    },
    {
      "cell_type": "code",
      "source": [
        "def count_nonnegative_numbers(arr):\n",
        "  return len([ 1 for row in arr for cell in row if cell >= 0 ])\n",
        "\n",
        "dim = 3\n",
        "test_array = np.random.randint(-99, 100, size=(dim, dim))\n",
        "print(test_array)\n",
        "print(count_nonnegative_numbers(test_array))"
      ],
      "metadata": {
        "colab": {
          "base_uri": "https://localhost:8080/"
        },
        "id": "3nNmWEpFK8cR",
        "outputId": "18534977-fd80-4fcf-9b9b-03190606ab79"
      },
      "execution_count": null,
      "outputs": [
        {
          "output_type": "stream",
          "name": "stdout",
          "text": [
            "[[  7  90  22]\n",
            " [ 95 -21  17]\n",
            " [ 61 -81 -18]]\n",
            "6\n"
          ]
        }
      ]
    },
    {
      "cell_type": "markdown",
      "source": [
        "### Numpy Broadcasting"
      ],
      "metadata": {
        "id": "FuzQDf0lNBBI"
      }
    },
    {
      "cell_type": "code",
      "source": [
        "import numpy as np\n",
        "X = np.array([list(range(5)),  list(range(-5,0))])\n",
        "print(X)\n",
        "print(X * 2)"
      ],
      "metadata": {
        "id": "hDkACF1XM_Rg"
      },
      "execution_count": null,
      "outputs": []
    },
    {
      "cell_type": "code",
      "source": [
        "X = [list(range(5)), list(range(-5, 0))]\n",
        "print(X)\n",
        "\n",
        "double = []\n",
        "for r in X:\n",
        "    row = []\n",
        "    for value in r:\n",
        "        value *= 2\n",
        "        row.append(value)\n",
        "    double.append(row)\n",
        "\n",
        "print(double)"
      ],
      "metadata": {
        "id": "Y7PnVvXUNGAP",
        "outputId": "92d24bd3-b343-4621-ba5c-aa2073ab2303",
        "colab": {
          "base_uri": "https://localhost:8080/"
        }
      },
      "execution_count": null,
      "outputs": [
        {
          "output_type": "stream",
          "name": "stdout",
          "text": [
            "[[0, 1, 2, 3, 4], [-5, -4, -3, -2, -1]]\n",
            "[[0, 2, 4, 6, 8], [-10, -8, -6, -4, -2]]\n"
          ]
        }
      ]
    },
    {
      "cell_type": "markdown",
      "source": [
        "### Mapping letters to digits"
      ],
      "metadata": {
        "id": "2q0TdVNqN3zS"
      }
    },
    {
      "cell_type": "code",
      "source": [
        "mapping = {'A': '2', 'B': '2', 'C': '2','D': '3', 'E': '3', 'F': '3','G': '4', 'H': '4', 'I': '4',\n",
        "                    'J': '5', 'K': '5', 'L': '5','M': '6', 'N': '6', 'O': '6','P': '7', 'Q': '7', 'R': '7', \n",
        "                    'S': '7','T': '8', 'U': '8', 'V': '8', 'W': '9', 'X': '9', 'Y': '9', 'Z': '9'\n",
        "}\n",
        "phone = \"555-GET-FOOD\" # input(\"Enter a phone number to be translated: \")\n",
        "translated = \"\".join([ mapping[c.upper()] if c.isalpha() else c for c in phone ])\n",
        "print(translated)"
      ],
      "metadata": {
        "id": "9Cbypg0mN_Ov",
        "outputId": "f5a935b5-3f35-4f04-b8a3-0780f6a05777",
        "colab": {
          "base_uri": "https://localhost:8080/"
        }
      },
      "execution_count": null,
      "outputs": [
        {
          "output_type": "stream",
          "name": "stdout",
          "text": [
            "555-438-3663\n"
          ]
        }
      ]
    }
  ],
  "metadata": {
    "kernelspec": {
      "display_name": "Python 3",
      "language": "python",
      "name": "python3"
    },
    "language_info": {
      "codemirror_mode": {
        "name": "ipython",
        "version": 3
      },
      "file_extension": ".py",
      "mimetype": "text/x-python",
      "name": "python",
      "nbconvert_exporter": "python",
      "pygments_lexer": "ipython3",
      "version": "3.7.6"
    },
    "colab": {
      "provenance": [],
      "include_colab_link": true
    }
  },
  "nbformat": 4,
  "nbformat_minor": 0
}