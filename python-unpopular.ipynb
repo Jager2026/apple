{
  "nbformat": 4,
  "nbformat_minor": 0,
  "metadata": {
    "colab": {
      "provenance": [],
      "authorship_tag": "ABX9TyOIZDvkNTqDOXR4CWhM8lhG",
      "include_colab_link": true
    },
    "kernelspec": {
      "name": "python3",
      "display_name": "Python 3"
    },
    "language_info": {
      "name": "python"
    }
  },
  "cells": [
    {
      "cell_type": "markdown",
      "metadata": {
        "id": "view-in-github",
        "colab_type": "text"
      },
      "source": [
        "<a href=\"https://colab.research.google.com/github/remjw/apple/blob/main/python-unpopular.ipynb\" target=\"_parent\"><img src=\"https://colab.research.google.com/assets/colab-badge.svg\" alt=\"Open In Colab\"/></a>"
      ]
    },
    {
      "cell_type": "code",
      "execution_count": null,
      "metadata": {
        "id": "T7z949mzmfek"
      },
      "outputs": [],
      "source": [
        "# 1\n",
        "# *args: take any number of arguments\n",
        "def average(*args):\n",
        "    return sum(args) / len(args)\n",
        "\n",
        "avg = average(5, 10, 15, 20)\n",
        "print(\"The average of (5, 10, 15, 20) is:\", avg)\n",
        "\n",
        "grades = [88, 75, 96, 55, 83]\n",
        "avg = average(*grades)\n",
        "print(\"The average of [88, 75, 96, 55, 83] is:\", avg)"
      ]
    },
    {
      "cell_type": "code",
      "source": [
        "# 2.\n",
        "# filter function for selecting data\n",
        "\n",
        "def is_odd(num): # define a is_ filter for odd numbers\n",
        "    return num % 2 == 1\n",
        "\n",
        "numbers = [0, 1, 2, 3, 4, 5, 6, 7, 8, 9, 10]\n",
        "odd_numbers = list(filter(is_odd, numbers)) # filter_out/exclude even numbers"
      ],
      "metadata": {
        "id": "HIfMW-p2m6-A"
      },
      "execution_count": null,
      "outputs": []
    },
    {
      "cell_type": "code",
      "source": [
        "# 3.\n",
        "# anonymous function with lambda argument : expression\n",
        "# a.k.a. IIFE (Immediately Invoked Function Expression)\n",
        "(lambda x, y: x + y)(2, 3)"
      ],
      "metadata": {
        "id": "gwS8AwU9p-R3"
      },
      "execution_count": null,
      "outputs": []
    },
    {
      "cell_type": "code",
      "source": [
        "# 4. \n",
        "# High-order function with lambda expression\n",
        "high_ord_func = lambda x, func: x + func(x)\n",
        "\n",
        "# pass x*x as fun to high-order one: square\n",
        "high_ord_func(2, lambda x: x * x)\n",
        "\n",
        "# pass x*2 as fun to high-order one: double\n",
        "high_ord_func(2, lambda x: x * 2)"
      ],
      "metadata": {
        "id": "CuoJh-LTqp3x"
      },
      "execution_count": null,
      "outputs": []
    },
    {
      "cell_type": "code",
      "source": [
        "# 5. \n",
        "# map function: map(function, iterable)\n",
        "def myfunc(a, b):\n",
        "  return a + b\n",
        "\n",
        "x = map(myfunc, ('apple', 'banana', 'cherry'), ('orange', 'lemon', 'pineapple'))\n",
        "print(list(x))\n",
        "\n",
        "y = map(myfunc, [1,2],[3,-2])\n",
        "print(list(y))\n",
        "\n",
        "z = map(myfunc, [1,2],[3])\n",
        "print(list(z))"
      ],
      "metadata": {
        "colab": {
          "base_uri": "https://localhost:8080/"
        },
        "id": "iBy36uoruF3O",
        "outputId": "fc9f251b-a67d-4869-858f-116f3a42eb1d"
      },
      "execution_count": null,
      "outputs": [
        {
          "output_type": "stream",
          "name": "stdout",
          "text": [
            "['appleorange', 'bananalemon', 'cherrypineapple']\n",
            "[4, 0]\n",
            "[4]\n"
          ]
        }
      ]
    },
    {
      "cell_type": "code",
      "source": [
        "import timeit\n",
        "print(timeit.timeit('[x**2 for x in range(1000)]'))\n",
        "print(timeit.timeit('np.arange(0,1000)**2', setup='import numpy as np'))"
      ],
      "metadata": {
        "id": "QuZ7gUkm99Fr",
        "outputId": "ecff6a4f-f7ec-469d-a5ea-12091e9e69a2",
        "colab": {
          "base_uri": "https://localhost:8080/"
        }
      },
      "execution_count": 1,
      "outputs": [
        {
          "output_type": "stream",
          "name": "stdout",
          "text": [
            "320.32567200899996\n",
            "3.984071212999993\n"
          ]
        }
      ]
    }
  ]
}