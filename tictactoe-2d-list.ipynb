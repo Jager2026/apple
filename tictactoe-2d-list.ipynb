{
  "cells": [
    {
      "cell_type": "markdown",
      "metadata": {
        "id": "view-in-github",
        "colab_type": "text"
      },
      "source": [
        "<a href=\"https://colab.research.google.com/github/remjw/apple/blob/main/tictactoe-2d-list.ipynb\" target=\"_parent\"><img src=\"https://colab.research.google.com/assets/colab-badge.svg\" alt=\"Open In Colab\"/></a>"
      ]
    },
    {
      "cell_type": "code",
      "source": [
        "# pos = row*3 + col\n",
        "'''(notebook is based on model-1) moves \n",
        "moves = [[0] * 9, [0] * 9]\n",
        "        0 1 2 3 4 5 6 7 8\n",
        "    p1: 1 0 1 0 1 0 0 0 0\n",
        "    p2: 0 1 0 1 0 0 0 1 0\n",
        "'''\n",
        "'''(model-2) moves = [0] * 9\n",
        "       0 1 2 3 4 5 6 7 8\n",
        "board: 1 2 1 2 1 0 0 2 0\n",
        "'''\n",
        "\n",
        "# two PLAYERS\n",
        "NR, NC, WIN_LENGTH = 3, 3, 3\n",
        "PLAYERS = {'0': '-','1': 'X', '2': 'O'}\n",
        "NP = 2\n",
        "TEXT = \"Enter row (0-2) and column (0-2), separate by space: \"\n",
        "SLEEP = 0\n",
        "RESULT =[\"Player 1 won!\", \"Player 2 won!\", \"It's a tie!\"]"
      ],
      "metadata": {
        "id": "hQ14XheSMkl6"
      },
      "execution_count": null,
      "outputs": []
    },
    {
      "cell_type": "code",
      "source": [
        "import time\n",
        "\n",
        "def generate_rules(NR, NC):\n",
        "  #RULES = ([0,1,2],[3,4,5],[6,7,8],[0,4,8],[2,4,6],[0,3,6],[1,4,7],[2,5,8])\n",
        "  # enumerate rows\n",
        "  # enumerate cols\n",
        "  # enumerate two diagonals\n",
        "  ...\n",
        "  return\n",
        "\n",
        "# get 1d-position index\n",
        "def get_pos(row, col):\n",
        "  return row * NC + col\n",
        "\n",
        "# display board\n",
        "def display_board(moves, num_player=NP, sleep=SLEEP):   \n",
        "  for r in range(NR): # row by row\n",
        "    time.sleep(sleep)\n",
        "    row = list()\n",
        "    for c in range(NC): # cols\n",
        "      cell = PLAYERS['0']\n",
        "      for p in range(num_player):\n",
        "        if moves[p][get_pos(r,c)]==1: \n",
        "          cell = PLAYERS[str(p+1)] # get symbol\n",
        "      row.append(cell) \n",
        "    # print row\n",
        "    print('|'.join(row))\n",
        "  return\n",
        "\n",
        "def wrong_move(moves, row, col):\n",
        "  pos = get_pos(row, col)\n",
        "  if pos > 8 or (moves[0][pos] + moves[1][pos]) != 0:\n",
        "    return True   \n",
        "  else: \n",
        "    return False\n",
        "\n",
        "def is_draw(moves):\n",
        "  for p1, p2 in zip(moves[0], moves[1]):\n",
        "    if p1^p2 == False: #xor\n",
        "      return False\n",
        "  return True\n",
        "\n",
        "def check_win(moves, win):\n",
        "  '''\n",
        "       0 1 2 3 4 5 6 7 8\n",
        "    X: 1 0 1 0 1 0 0 0 0\n",
        "    O: 0 1 0 1 0 0 0 1 0\n",
        "  '''\n",
        "  for rule in RULES:\n",
        "    for p in range(NP):\n",
        "      if sum([moves[p][cell] for cell in rule]) == WIN_LENGTH:\n",
        "        return p\n",
        "  return win\n",
        "\n",
        "# display prompt\n",
        "def move_player(moves, pid, prompt=TEXT):\n",
        "  print(f'Player {pid} move:')\n",
        "  row, col = [int(x) for x in input(prompt).split()]\n",
        "  while wrong_move(moves, row, col):\n",
        "    print(\"Wrong move. do again\")\n",
        "    row, col = [int(x) for x in input(prompt).split()]\n",
        "  moves[pid-1][get_pos(row, col)] = 1\n",
        "  return moves\n",
        "\n",
        "def tictactoe():\n",
        "  win = -1 # 2:draw, 0-player1, 1-player2, -1:continue\n",
        "  moves = [[0] * 9, [0] * 9]\n",
        "  display_board(moves)\n",
        "  # start\n",
        "  pid = 2\n",
        "  while win == -1 and is_draw(moves) != True:\n",
        "    pid = 1 if pid == 2 else 2 # player switch\n",
        "    moves = move_player(moves, pid)\n",
        "    print(moves)\n",
        "    display_board(moves)\n",
        "    win = check_win(moves, win)\n",
        "  print(RESULT[win])\n",
        "  return"
      ],
      "metadata": {
        "id": "ZFWyo4BgJHG3"
      },
      "execution_count": null,
      "outputs": []
    },
    {
      "cell_type": "code",
      "source": [
        "tictactoe()"
      ],
      "metadata": {
        "id": "evBmWkR4Mqsw"
      },
      "execution_count": null,
      "outputs": []
    },
    {
      "cell_type": "code",
      "source": [
        "moves = [[0] * 9, [0] * 9]\n",
        "moves"
      ],
      "metadata": {
        "colab": {
          "base_uri": "https://localhost:8080/"
        },
        "id": "3elvDmjFPYnB",
        "outputId": "f80160c9-06ba-4646-f8f2-6bf26fc84297"
      },
      "execution_count": 1,
      "outputs": [
        {
          "output_type": "execute_result",
          "data": {
            "text/plain": [
              "[[0, 0, 0, 0, 0, 0, 0, 0, 0], [0, 0, 0, 0, 0, 0, 0, 0, 0]]"
            ]
          },
          "metadata": {},
          "execution_count": 1
        }
      ]
    }
  ],
  "metadata": {
    "kernelspec": {
      "display_name": "Python 3",
      "language": "python",
      "name": "python3"
    },
    "language_info": {
      "codemirror_mode": {
        "name": "ipython",
        "version": 3
      },
      "file_extension": ".py",
      "mimetype": "text/x-python",
      "name": "python",
      "nbconvert_exporter": "python",
      "pygments_lexer": "ipython3",
      "version": "3.7.6"
    },
    "colab": {
      "provenance": [],
      "include_colab_link": true
    }
  },
  "nbformat": 4,
  "nbformat_minor": 0
}